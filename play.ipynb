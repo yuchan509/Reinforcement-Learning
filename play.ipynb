{
 "cells": [
  {
   "cell_type": "code",
   "execution_count": 1,
   "metadata": {},
   "outputs": [],
   "source": [
    "from Train import *\n",
    "from IPython import display\n",
    "import pylab as pl\n",
    "import time, os\n",
    "import matplotlib.patches as patches\n",
    "import tensorflow.compat.v1 as tf\n",
    "tf.compat.v1.disable_eager_execution()"
   ]
  },
  {
   "cell_type": "code",
   "execution_count": 2,
   "metadata": {},
   "outputs": [],
   "source": [
    "# 설정값 정의.\n",
    "gridSize = 10\n",
    "maxGames = 100\n",
    "env      = CatchEnvironment(gridSize)\n",
    "winCount = 0\n",
    "lossCount = 0\n",
    "numberOfGames = 0"
   ]
  },
  {
   "cell_type": "code",
   "execution_count": 3,
   "metadata": {},
   "outputs": [
    {
     "data": {
      "image/png": "[encoded data removed]",
      "text/plain": [
       "<Figure size 720x576 with 1 Axes>"
      ]
     },
     "metadata": {},
     "output_type": "display_data"
    },
    {
     "data": {
      "image/png": "[encoded data removed]",
      "text/plain": [
       "<Figure size 720x576 with 1 Axes>"
      ]
     },
     "metadata": {
      "needs_background": "light"
     },
     "output_type": "display_data"
    }
   ],
   "source": [
    "# 그래프 관련 설정.\n",
    "ground = 1\n",
    "plot   = pl.figure(figsize=(10, 8))\n",
    "axis   = plot.add_subplot(111, aspect='equal')\n",
    "axis.set_xlim([-1, 12])\n",
    "axis.set_ylim([0, 12])\n",
    "\n",
    "# 파라미터를 불어오기 위한 Saver 선언.\n",
    "saver = tf.train.Saver()\n",
    "\n",
    "# 현재 상태를 그리기 위한 DrawState 함수 정의.\n",
    "def drawState(fruitRow, fruitCol, basket, gridSize) :\n",
    "    # 과일 세로축 담기.\n",
    "    fruitX = fruitCol\n",
    "    # 과일 가로축 담기.\n",
    "    fruitY = (gridSize - fruitRow + 1)\n",
    "    # 승리 횟수, 패배 횟수, 전체 게임 횟수를 화면 상단에 출력.\n",
    "    stateTitle = f'Wins : {winCount} Losses : {lossCount} TotalGame : {numberOfGames}'\n",
    "    axis.set_title(stateTitle)\n",
    "    \n",
    "    # 배경, 과일, 바구니 그리기.\n",
    "    for p in [\n",
    "        # 배경 설정.\n",
    "        patches.Rectangle(\n",
    "            ((ground - 1), ground), 11, 10, facecolor = '#000000'\n",
    "        ),\n",
    "        # 바구니 설정.\n",
    "         patches.Rectangle(\n",
    "            (basket - 1, ground), 2, 0.5, facecolor = '#FF0000'\n",
    "        ),\n",
    "        # 과일 설정.\n",
    "         patches.Rectangle(\n",
    "            (fruitX - 0.5, fruitY - 0.5), 1, 1, facecolor = '#0000FF'\n",
    "        )\n",
    "    ]:axis.add_patch(p)\n",
    "    \n",
    "    # 화면 청소.\n",
    "    display.clear_output(wait=True)\n",
    "    # 새롭게 그리기.\n",
    "    display.display(pl.gcf())\n",
    "    \n",
    "# 행동을 에측하며 그림 그리기.\n",
    "with tf.Session() as sess :\n",
    "    # 저장된 파라미터 불러오기.\n",
    "    saver.restore(sess, 'model.ckpt')\n",
    "    print('저장된 파라미터를 불러왔습니다.')\n",
    "    \n",
    "    # 지정된 횟수만큼 게임 반복.\n",
    "    while numberOfGames < maxGames :\n",
    "        # 진행 게임수 만큼 증가.\n",
    "        numberOfGames += 1\n",
    "        \n",
    "        # 최초 게임 상태 설정.\n",
    "        isGameOver = False \n",
    "        fruitRow, fruitCol, basket = env.reset()\n",
    "        currentState = env.observe()\n",
    "        drawState(fruitRow, fruitCol, basket, gridSize)\n",
    "        \n",
    "        # 1판이 종료될 때까지 반복.\n",
    "        while isGameOver != True :\n",
    "            # 현재 상태에서 q값이 가장 행위를 가져오기.\n",
    "            q = sess.run(y_pred, feed_dict = {x : currentState} )\n",
    "            action = q.argmax()\n",
    "            \n",
    "            # 행동을 수행하고 다음 상태로 넘어감.\n",
    "            nextState, reward, gameOver, stateinfo = env.act(action)\n",
    "            fruitRow = stateinfo[0]\n",
    "            fruitCol = stateinfo[1]\n",
    "            basket   = stateinfo[2]\n",
    "            \n",
    "            # 과일을 받아내면 winCount 1 증가.\n",
    "            if reward == 1 :\n",
    "                winCount += 1\n",
    "            # 과일을 못 받아내면 lossCount 1 증가.\n",
    "            elif reward == -1 :\n",
    "                lossCount += 1\n",
    "            \n",
    "            # 다음 판으로 넘어가기 위한 설정.\n",
    "            currentState = nextState\n",
    "            isGameOver   = gameOver\n",
    "            \n",
    "            # 그리기.\n",
    "            drawState(fruitRow, fruitCol, basket, gridSize)\n",
    "            time.sleep(0.05)\n",
    "                "
   ]
  }
 ],
 "metadata": {
  "kernelspec": {
   "display_name": "Python 3",
   "language": "python",
   "name": "python3"
  },
  "language_info": {
   "codemirror_mode": {
    "name": "ipython",
    "version": 3
   },
   "file_extension": ".py",
   "mimetype": "text/x-python",
   "name": "python",
   "nbconvert_exporter": "python",
   "pygments_lexer": "ipython3",
   "version": "3.7.6"
  }
 },
 "nbformat": 4,
 "nbformat_minor": 4
}
